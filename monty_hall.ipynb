{
 "cells": [
  {
   "cell_type": "code",
   "execution_count": 1,
   "metadata": {},
   "outputs": [],
   "source": [
    "import random"
   ]
  },
  {
   "cell_type": "code",
   "execution_count": 2,
   "metadata": {},
   "outputs": [],
   "source": [
    "def monty_hall_simulator(trials, n, switch_type='original'):\n",
    "    \n",
    "    win_count = 0\n",
    "    for i in range(trials):\n",
    "        prize_list = [0]*(n-1) + [1]\n",
    "        door_numbers = list(range(1, n+1))\n",
    "        random.shuffle(prize_list)\n",
    "        door_prize = dict(zip(door_numbers, prize_list))\n",
    "        door = random.randint(1, n)\n",
    "        \n",
    "        if switch_type == 'original':\n",
    "        \n",
    "            if door_prize[door] == 1:\n",
    "                d = door_numbers.copy()\n",
    "                d.remove(door)\n",
    "                alternative_door = random.choice(d)\n",
    "                door = alternative_door\n",
    "                if door_prize[door]:\n",
    "                    win_count += 1\n",
    "                # player switches to losing door\n",
    "            else:\n",
    "                for num, is_prize in door_prize.items():\n",
    "                    if is_prize:\n",
    "                        door_with_prize = num\n",
    "                door = door_with_prize\n",
    "                # player switches to winning door\n",
    "                win_count += 1\n",
    "                \n",
    "        if switch_type == 'random':\n",
    "            \n",
    "            if door_prize[door] == 1:\n",
    "                d = door_numbers.copy()\n",
    "                d.remove(door)\n",
    "                alternative_door = random.choice(d)\n",
    "                door = random.choice([alternative_door, door])\n",
    "                if door_prize[door]:\n",
    "                    win_count += 1\n",
    "            else:\n",
    "                for num, is_prize in door_prize.items():\n",
    "                    if is_prize:\n",
    "                        door_with_prize = num\n",
    "                door = random.choice([door_with_prize, door])\n",
    "                if door_prize[door]:\n",
    "                    win_count += 1\n",
    "     \n",
    "    print(\"Switch type: {}\".format(switch_type))\n",
    "    print(\"Games played: {}\".format(trials))\n",
    "    print(\"Games won: {}\".format(win_count))\n",
    "    print(\"Win rate: {}%\".format(100*win_count/trials))"
   ]
  },
  {
   "cell_type": "code",
   "execution_count": 3,
   "metadata": {},
   "outputs": [
    {
     "name": "stdout",
     "output_type": "stream",
     "text": [
      "Switch type: original\n",
      "Games played: 100000\n",
      "Games won: 66548\n",
      "Win rate: 66.548%\n",
      "CPU times: user 541 ms, sys: 2.97 ms, total: 544 ms\n",
      "Wall time: 544 ms\n"
     ]
    }
   ],
   "source": [
    "%time monty_hall_simulator(100000, 3, switch_type='original')"
   ]
  },
  {
   "cell_type": "code",
   "execution_count": 4,
   "metadata": {},
   "outputs": [
    {
     "name": "stdout",
     "output_type": "stream",
     "text": [
      "Switch type: random\n",
      "Games played: 100000\n",
      "Games won: 49890\n",
      "Win rate: 49.89%\n",
      "CPU times: user 692 ms, sys: 9.89 ms, total: 702 ms\n",
      "Wall time: 705 ms\n"
     ]
    }
   ],
   "source": [
    "%time monty_hall_simulator(100000, 3, switch_type='random')"
   ]
  },
  {
   "cell_type": "code",
   "execution_count": null,
   "metadata": {},
   "outputs": [],
   "source": []
  }
 ],
 "metadata": {
  "kernelspec": {
   "display_name": "Python 3",
   "language": "python",
   "name": "python3"
  },
  "language_info": {
   "codemirror_mode": {
    "name": "ipython",
    "version": 3
   },
   "file_extension": ".py",
   "mimetype": "text/x-python",
   "name": "python",
   "nbconvert_exporter": "python",
   "pygments_lexer": "ipython3",
   "version": "3.7.7"
  }
 },
 "nbformat": 4,
 "nbformat_minor": 2
}
