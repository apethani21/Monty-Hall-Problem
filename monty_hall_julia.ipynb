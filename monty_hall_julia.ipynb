{
 "cells": [
  {
   "cell_type": "code",
   "execution_count": 1,
   "metadata": {},
   "outputs": [],
   "source": [
    "using Random: shuffle!"
   ]
  },
  {
   "cell_type": "code",
   "execution_count": 2,
   "metadata": {},
   "outputs": [
    {
     "data": {
      "text/plain": [
       "monty_hall_simulator (generic function with 2 methods)"
      ]
     },
     "execution_count": 2,
     "metadata": {},
     "output_type": "execute_result"
    }
   ],
   "source": [
    "function monty_hall_simulator(trials, n, switch_type=\"original\")\n",
    "    win_count = 0\n",
    "    for i in 1:trials\n",
    "        prize_list = vcat([false for _ in 1:(n-1)], [true])\n",
    "        door_numbers = [i for i in 1:n]\n",
    "        shuffle!(prize_list)\n",
    "        door_prize = Dict(zip(door_numbers, prize_list))\n",
    "        door = rand(1:n)\n",
    "\n",
    "        if switch_type == \"original\"\n",
    "            if door_prize[door]\n",
    "                d = copy(door_numbers)\n",
    "                filter!(e->e ≠ door, d)\n",
    "                alternative_door = rand(d)\n",
    "                door = alternative_door\n",
    "                if door_prize[door]\n",
    "                    win_count += 1\n",
    "                end\n",
    "                # player switches to losing door\n",
    "            else\n",
    "                for (num, is_prize) in door_prize\n",
    "                    if is_prize\n",
    "                        door_with_prize = num\n",
    "                    end\n",
    "                end\n",
    "                # player switches to winning door\n",
    "                win_count += 1\n",
    "            end\n",
    "        end\n",
    "\n",
    "        if switch_type == \"random\"\n",
    "            if door_prize[door]\n",
    "                d = copy(door_numbers)\n",
    "                filter!(e->e ≠ door, d)\n",
    "                alternative_door = rand(d)\n",
    "                door = rand([alternative_door, door])\n",
    "                if door_prize[door]\n",
    "                    win_count += 1\n",
    "                end\n",
    "            else\n",
    "                local door_with_prize\n",
    "                for (num, is_prize) in door_prize\n",
    "                    if is_prize\n",
    "                        door_with_prize = num\n",
    "                    end\n",
    "                end\n",
    "                door = rand([door_with_prize, door])\n",
    "                if door_prize[door]\n",
    "                    win_count += 1\n",
    "                end\n",
    "            end\n",
    "        end\n",
    "    end\n",
    "    win_rate = round(100*win_count/trials, digits=3)\n",
    "    print(\"Switch type: $switch_type\", \"\\n\")\n",
    "    print(\"Games played: $trials\", \"\\n\")\n",
    "    print(\"Games won: $win_count\", \"\\n\")\n",
    "    print(\"Win rate: $(win_rate)%\", \"\\n\")\n",
    "    return\n",
    "end"
   ]
  },
  {
   "cell_type": "code",
   "execution_count": 3,
   "metadata": {},
   "outputs": [
    {
     "name": "stdout",
     "output_type": "stream",
     "text": [
      "Switch type: original\n",
      "Games played: 100000\n",
      "Games won: 66565\n",
      "Win rate: 66.565%\n",
      "  0.125622 seconds (1.20 M allocations: 99.090 MiB, 15.33% gc time)\n"
     ]
    }
   ],
   "source": [
    "@time monty_hall_simulator(100000, 3, \"original\")"
   ]
  },
  {
   "cell_type": "code",
   "execution_count": 4,
   "metadata": {},
   "outputs": [
    {
     "name": "stdout",
     "output_type": "stream",
     "text": [
      "Switch type: random\n",
      "Games played: 100000\n",
      "Games won: 50205\n",
      "Win rate: 50.205%\n",
      "  0.094782 seconds (1.27 M allocations: 106.320 MiB, 15.07% gc time)\n"
     ]
    }
   ],
   "source": [
    "@time monty_hall_simulator(100000, 3, \"random\")"
   ]
  }
 ],
 "metadata": {
  "kernelspec": {
   "display_name": "Julia 1.4.2",
   "language": "julia",
   "name": "julia-1.4"
  },
  "language_info": {
   "file_extension": ".jl",
   "mimetype": "application/julia",
   "name": "julia",
   "version": "1.4.2"
  }
 },
 "nbformat": 4,
 "nbformat_minor": 4
}
